{
 "cells": [
  {
   "cell_type": "code",
   "execution_count": 1,
   "metadata": {
    "collapsed": false
   },
   "outputs": [
    {
     "data": {
      "text/html": [
       "\n",
       "\n",
       "    <script type=\"text/javascript\">\n",
       "      \n",
       "      (function(global) {\n",
       "        function now() {\n",
       "          return new Date();\n",
       "        }\n",
       "      \n",
       "        if (typeof (window._bokeh_onload_callbacks) === \"undefined\") {\n",
       "          window._bokeh_onload_callbacks = [];\n",
       "        }\n",
       "      \n",
       "        function run_callbacks() {\n",
       "          window._bokeh_onload_callbacks.forEach(function(callback) { callback() });\n",
       "          delete window._bokeh_onload_callbacks\n",
       "          console.info(\"Bokeh: all callbacks have finished\");\n",
       "        }\n",
       "      \n",
       "        function load_libs(js_urls, callback) {\n",
       "          window._bokeh_onload_callbacks.push(callback);\n",
       "          if (window._bokeh_is_loading > 0) {\n",
       "            console.log(\"Bokeh: BokehJS is being loaded, scheduling callback at\", now());\n",
       "            return null;\n",
       "          }\n",
       "          if (js_urls == null || js_urls.length === 0) {\n",
       "            run_callbacks();\n",
       "            return null;\n",
       "          }\n",
       "          console.log(\"Bokeh: BokehJS not loaded, scheduling load and callback at\", now());\n",
       "          window._bokeh_is_loading = js_urls.length;\n",
       "          for (var i = 0; i < js_urls.length; i++) {\n",
       "            var url = js_urls[i];\n",
       "            var s = document.createElement('script');\n",
       "            s.src = url;\n",
       "            s.async = false;\n",
       "            s.onreadystatechange = s.onload = function() {\n",
       "              window._bokeh_is_loading--;\n",
       "              if (window._bokeh_is_loading === 0) {\n",
       "                console.log(\"Bokeh: all BokehJS libraries loaded\");\n",
       "                run_callbacks()\n",
       "              }\n",
       "            };\n",
       "            s.onerror = function() {\n",
       "              console.warn(\"failed to load library \" + url);\n",
       "            };\n",
       "            console.log(\"Bokeh: injecting script tag for BokehJS library: \", url);\n",
       "            document.getElementsByTagName(\"head\")[0].appendChild(s);\n",
       "          }\n",
       "        };var js_urls = ['https://cdn.pydata.org/bokeh/release/bokeh-0.11.0.min.js', 'https://cdn.pydata.org/bokeh/release/bokeh-widgets-0.11.0.min.js', 'https://cdn.pydata.org/bokeh/release/bokeh-compiler-0.11.0.min.js'];\n",
       "      \n",
       "        var inline_js = [\n",
       "          function(Bokeh) {\n",
       "            Bokeh.set_log_level(\"info\");\n",
       "          },\n",
       "          function(Bokeh) {\n",
       "            console.log(\"Bokeh: injecting CSS: https://cdn.pydata.org/bokeh/release/bokeh-0.11.0.min.css\");\n",
       "            Bokeh.embed.inject_css(\"https://cdn.pydata.org/bokeh/release/bokeh-0.11.0.min.css\");\n",
       "            console.log(\"Bokeh: injecting CSS: https://cdn.pydata.org/bokeh/release/bokeh-widgets-0.11.0.min.css\");\n",
       "            Bokeh.embed.inject_css(\"https://cdn.pydata.org/bokeh/release/bokeh-widgets-0.11.0.min.css\");\n",
       "          }\n",
       "        ];\n",
       "      \n",
       "        function run_inline_js() {\n",
       "          for (var i = 0; i < inline_js.length; i++) {\n",
       "            inline_js[i](window.Bokeh);\n",
       "          }\n",
       "        }\n",
       "      \n",
       "        if (window._bokeh_is_loading === 0) {\n",
       "          console.log(\"Bokeh: BokehJS loaded, going straight to plotting\");\n",
       "          run_inline_js();\n",
       "        } else {\n",
       "          load_libs(js_urls, function() {\n",
       "            console.log(\"Bokeh: BokehJS plotting callback run at\", now());\n",
       "            run_inline_js();\n",
       "          });\n",
       "        }\n",
       "      }(this));\n",
       "    </script>\n",
       "    <div>\n",
       "        <a href=\"http://bokeh.pydata.org\" target=\"_blank\" class=\"bk-logo bk-logo-small bk-logo-notebook\"></a>\n",
       "        <span>BokehJS successfully loaded.</span>\n",
       "    </div>"
      ]
     },
     "metadata": {},
     "output_type": "display_data"
    }
   ],
   "source": [
    "import time\n",
    "\n",
    "import numpy as np\n",
    "import pandas as pd\n",
    "from bokeh.charts import Bar, show\n",
    "from bokeh.io import output_notebook\n",
    "\n",
    "from data_generation import generate_segments\n",
    "from utils import segment_format\n",
    "from thumos14_helper import Thumos14\n",
    "\n",
    "output_notebook()"
   ]
  },
  {
   "cell_type": "markdown",
   "metadata": {},
   "source": [
    "# Number of segments generated\n",
    "\n",
    "this section explores the number of segments generated in total following the heuristic proposed by Erhan et al. CVPR2-014."
   ]
  },
  {
   "cell_type": "code",
   "execution_count": 2,
   "metadata": {
    "collapsed": false
   },
   "outputs": [],
   "source": [
    "def wrapper_data_gen_for_T(T, max_time=3600):\n",
    "    # T:= canonical temporal size\n",
    "    start_time = time.time()\n",
    "\n",
    "    th = Thumos14('../data/thumos14/')\n",
    "    df_annot_val = th.segments_info()\n",
    "\n",
    "    n = 0\n",
    "    for i in np.unique(df_annot_val['video-name']):\n",
    "        idx = df_annot_val['video-name'] == i\n",
    "        target_c = df_annot_val.loc[idx, ['f-init', 'n-frames']]\n",
    "        L = df_annot_val.loc[idx, 'video-frames'].min()\n",
    "        annotations = segment_format(np.array(target_c), 'c2b')\n",
    "        a, b = generate_segments(T, L, annotations)\n",
    "\n",
    "        if len(b) <= 0:\n",
    "            print 'no segments for video-id:', i\n",
    "        n += len(b)\n",
    "\n",
    "        elapsed_time = time.time() - start_time\n",
    "        if elapsed_time > max_time:\n",
    "            print 'reach max time... sorry'\n",
    "            break\n",
    "    return n"
   ]
  },
  {
   "cell_type": "code",
   "execution_count": 3,
   "metadata": {
    "collapsed": false
   },
   "outputs": [
    {
     "name": "stdout",
     "output_type": "stream",
     "text": [
      "T = 64\n",
      "T = 128\n",
      "T = 176\n",
      "T = 256\n",
      "no segments for video-id: video_validation_0000190\n",
      "T = 384\n",
      "no segments for video-id: video_validation_0000190\n",
      "T = 512\n",
      "no segments for video-id: video_validation_0000190\n",
      "no segments for video-id: video_validation_0000854\n"
     ]
    }
   ],
   "source": [
    "T_cal = [64, 128, 128+3*16, 256, 384, 512]\n",
    "n_samples = []\n",
    "for i in T_cal:\n",
    "    print 'T =', i\n",
    "    n_samples.append(wrapper_data_gen_for_T(i))"
   ]
  },
  {
   "cell_type": "code",
   "execution_count": 4,
   "metadata": {
    "collapsed": false
   },
   "outputs": [
    {
     "data": {
      "text/html": [
       "\n",
       "\n",
       "    <div class=\"plotdiv\" id=\"a79a72a5-be01-43c5-b6c0-b03f1d690038\"></div>\n",
       "<script type=\"text/javascript\">\n",
       "  \n",
       "  (function(global) {\n",
       "    function now() {\n",
       "      return new Date();\n",
       "    }\n",
       "  \n",
       "    if (typeof (window._bokeh_onload_callbacks) === \"undefined\") {\n",
       "      window._bokeh_onload_callbacks = [];\n",
       "    }\n",
       "  \n",
       "    function run_callbacks() {\n",
       "      window._bokeh_onload_callbacks.forEach(function(callback) { callback() });\n",
       "      delete window._bokeh_onload_callbacks\n",
       "      console.info(\"Bokeh: all callbacks have finished\");\n",
       "    }\n",
       "  \n",
       "    function load_libs(js_urls, callback) {\n",
       "      window._bokeh_onload_callbacks.push(callback);\n",
       "      if (window._bokeh_is_loading > 0) {\n",
       "        console.log(\"Bokeh: BokehJS is being loaded, scheduling callback at\", now());\n",
       "        return null;\n",
       "      }\n",
       "      if (js_urls == null || js_urls.length === 0) {\n",
       "        run_callbacks();\n",
       "        return null;\n",
       "      }\n",
       "      console.log(\"Bokeh: BokehJS not loaded, scheduling load and callback at\", now());\n",
       "      window._bokeh_is_loading = js_urls.length;\n",
       "      for (var i = 0; i < js_urls.length; i++) {\n",
       "        var url = js_urls[i];\n",
       "        var s = document.createElement('script');\n",
       "        s.src = url;\n",
       "        s.async = false;\n",
       "        s.onreadystatechange = s.onload = function() {\n",
       "          window._bokeh_is_loading--;\n",
       "          if (window._bokeh_is_loading === 0) {\n",
       "            console.log(\"Bokeh: all BokehJS libraries loaded\");\n",
       "            run_callbacks()\n",
       "          }\n",
       "        };\n",
       "        s.onerror = function() {\n",
       "          console.warn(\"failed to load library \" + url);\n",
       "        };\n",
       "        console.log(\"Bokeh: injecting script tag for BokehJS library: \", url);\n",
       "        document.getElementsByTagName(\"head\")[0].appendChild(s);\n",
       "      }\n",
       "    };var element = document.getElementById(\"a79a72a5-be01-43c5-b6c0-b03f1d690038\");\n",
       "    if (element == null) {\n",
       "      console.log(\"Bokeh: ERROR: autoload.js configured with elementid 'a79a72a5-be01-43c5-b6c0-b03f1d690038' but no matching script tag was found. \")\n",
       "      return false;\n",
       "    }var js_urls = [];\n",
       "  \n",
       "    var inline_js = [\n",
       "      function(Bokeh) {\n",
       "        Bokeh.$(function() {\n",
       "            var docs_json = {\"830538be-f249-44ac-bc87-49fd2b570507\": {\"version\": \"0.11.0\", \"roots\": {\"root_ids\": [\"8067c51d-8eca-45ef-b2a3-88965b842622\"], \"references\": [{\"attributes\": {\"plot\": {\"subtype\": \"Chart\", \"type\": \"Plot\", \"id\": \"8067c51d-8eca-45ef-b2a3-88965b842622\"}}, \"type\": \"PanTool\", \"id\": \"4efbaacd-0017-4efe-8b83-b7eb9bc1ed89\"}, {\"attributes\": {\"line_color\": {\"field\": \"line_color\"}, \"fill_color\": {\"field\": \"color\"}, \"fill_alpha\": {\"field\": \"fill_alpha\"}, \"height\": {\"units\": \"data\", \"field\": \"height\"}, \"width\": {\"units\": \"data\", \"field\": \"width\"}, \"y\": {\"field\": \"y\"}, \"x\": {\"field\": \"x\"}}, \"type\": \"Rect\", \"id\": \"f5bf648c-41ad-45ee-a1dc-90b72b660cb2\"}, {\"attributes\": {\"plot\": {\"subtype\": \"Chart\", \"type\": \"Plot\", \"id\": \"8067c51d-8eca-45ef-b2a3-88965b842622\"}, \"overlay\": {\"type\": \"BoxAnnotation\", \"id\": \"38b31088-fa88-4041-a076-771f0d45937b\"}}, \"type\": \"BoxZoomTool\", \"id\": \"33447758-f6c2-48d1-92d1-90b5685ee02f\"}, {\"attributes\": {\"plot\": {\"subtype\": \"Chart\", \"type\": \"Plot\", \"id\": \"8067c51d-8eca-45ef-b2a3-88965b842622\"}, \"ticker\": {\"type\": \"BasicTicker\", \"id\": \"dc151f30-d22a-4707-933e-c7d1bd4337ba\"}, \"dimension\": 1}, \"type\": \"Grid\", \"id\": \"913505be-cd07-45b5-abe7-04bedc083a40\"}, {\"attributes\": {\"callback\": null, \"column_names\": [\"line_color\", \"line_alpha\", \"color\", \"fill_alpha\", \"height\", \"width\", \"y\", \"x\"], \"data\": {\"T-size\": [256], \"line_alpha\": [1.0], \"chart_index\": [{\"T-size\": 256}], \"line_color\": [\"white\"], \"color\": [\"#f22c40\"], \"fill_alpha\": [0.8], \"height\": [294922.0], \"width\": [0.8], \"y\": [147461.0], \"x\": [\"256\"]}}, \"type\": \"ColumnDataSource\", \"id\": \"e14e4a97-a5c4-49f6-a6e6-9aec7da05fb7\"}, {\"attributes\": {\"nonselection_glyph\": null, \"data_source\": {\"type\": \"ColumnDataSource\", \"id\": \"a44eb2b1-d35d-4b06-adc8-9d5721cf4faa\"}, \"selection_glyph\": null, \"hover_glyph\": null, \"glyph\": {\"type\": \"Rect\", \"id\": \"ef2510d9-c4a0-4493-92d8-4b2449d083f9\"}}, \"type\": \"GlyphRenderer\", \"id\": \"eacce397-57ea-4651-bb59-35e3b68fca2c\"}, {\"attributes\": {\"callback\": null, \"factors\": [\"64\", \"128\", \"176\", \"256\", \"384\", \"512\"]}, \"type\": \"FactorRange\", \"id\": \"2f433145-0ba1-4182-9c4b-d2c272154c3a\"}, {\"attributes\": {\"plot\": {\"subtype\": \"Chart\", \"type\": \"Plot\", \"id\": \"8067c51d-8eca-45ef-b2a3-88965b842622\"}}, \"type\": \"PreviewSaveTool\", \"id\": \"a3964ebd-d1f8-4521-a14a-4426b0420759\"}, {\"attributes\": {}, \"type\": \"BasicTickFormatter\", \"id\": \"680809a4-5fae-468c-a32a-dddb9b320937\"}, {\"attributes\": {\"major_label_orientation\": 0.7853981633974483, \"plot\": {\"subtype\": \"Chart\", \"type\": \"Plot\", \"id\": \"8067c51d-8eca-45ef-b2a3-88965b842622\"}, \"axis_label\": \"T-Size\", \"formatter\": {\"type\": \"CategoricalTickFormatter\", \"id\": \"47152d5d-3c17-41ca-bfd0-9643b4d93938\"}, \"ticker\": {\"type\": \"CategoricalTicker\", \"id\": \"e5cdf806-712b-48f4-9751-d3dcfc04c1bf\"}}, \"type\": \"CategoricalAxis\", \"id\": \"226490f3-2a09-4578-af2c-2aaa64764997\"}, {\"attributes\": {}, \"type\": \"BasicTicker\", \"id\": \"dc151f30-d22a-4707-933e-c7d1bd4337ba\"}, {\"attributes\": {}, \"type\": \"CategoricalTickFormatter\", \"id\": \"47152d5d-3c17-41ca-bfd0-9643b4d93938\"}, {\"attributes\": {}, \"type\": \"CategoricalTicker\", \"id\": \"e5cdf806-712b-48f4-9751-d3dcfc04c1bf\"}, {\"attributes\": {\"callback\": null, \"column_names\": [\"line_color\", \"line_alpha\", \"color\", \"fill_alpha\", \"height\", \"width\", \"y\", \"x\"], \"data\": {\"T-size\": [64], \"line_alpha\": [1.0], \"chart_index\": [{\"T-size\": 64}], \"line_color\": [\"white\"], \"color\": [\"#f22c40\"], \"fill_alpha\": [0.8], \"height\": [304742.0], \"width\": [0.8], \"y\": [152371.0], \"x\": [\"64\"]}}, \"type\": \"ColumnDataSource\", \"id\": \"a44eb2b1-d35d-4b06-adc8-9d5721cf4faa\"}, {\"attributes\": {\"callback\": null, \"column_names\": [\"line_color\", \"line_alpha\", \"color\", \"fill_alpha\", \"height\", \"width\", \"y\", \"x\"], \"data\": {\"T-size\": [176], \"line_alpha\": [1.0], \"chart_index\": [{\"T-size\": 176}], \"line_color\": [\"white\"], \"color\": [\"#f22c40\"], \"fill_alpha\": [0.8], \"height\": [299571.0], \"width\": [0.8], \"y\": [149785.5], \"x\": [\"176\"]}}, \"type\": \"ColumnDataSource\", \"id\": \"9b238550-7961-48ec-b986-fdbdde78b1e0\"}, {\"attributes\": {\"plot\": {\"subtype\": \"Chart\", \"type\": \"Plot\", \"id\": \"8067c51d-8eca-45ef-b2a3-88965b842622\"}}, \"type\": \"HelpTool\", \"id\": \"8925c86a-16ff-42ca-ba75-f5691eb42bb8\"}, {\"attributes\": {\"line_color\": {\"field\": \"line_color\"}, \"fill_color\": {\"field\": \"color\"}, \"fill_alpha\": {\"field\": \"fill_alpha\"}, \"height\": {\"units\": \"data\", \"field\": \"height\"}, \"width\": {\"units\": \"data\", \"field\": \"width\"}, \"y\": {\"field\": \"y\"}, \"x\": {\"field\": \"x\"}}, \"type\": \"Rect\", \"id\": \"81bf5702-a672-4690-a025-7d10251aeffa\"}, {\"attributes\": {\"nonselection_glyph\": null, \"data_source\": {\"type\": \"ColumnDataSource\", \"id\": \"e14e4a97-a5c4-49f6-a6e6-9aec7da05fb7\"}, \"selection_glyph\": null, \"hover_glyph\": null, \"glyph\": {\"type\": \"Rect\", \"id\": \"f5bf648c-41ad-45ee-a1dc-90b72b660cb2\"}}, \"type\": \"GlyphRenderer\", \"id\": \"e460fef4-e677-49d8-bb52-75b93d06cf9c\"}, {\"attributes\": {\"nonselection_glyph\": null, \"data_source\": {\"type\": \"ColumnDataSource\", \"id\": \"f45f4e36-fb30-4b86-99dc-6da8a501475b\"}, \"selection_glyph\": null, \"hover_glyph\": null, \"glyph\": {\"type\": \"Rect\", \"id\": \"81bf5702-a672-4690-a025-7d10251aeffa\"}}, \"type\": \"GlyphRenderer\", \"id\": \"0396209b-ffe7-4b4e-824b-309506719f7e\"}, {\"attributes\": {\"callback\": null, \"end\": 339316.95}, \"type\": \"Range1d\", \"id\": \"e4a30bca-a411-42db-9cbd-c8276c6e8582\"}, {\"attributes\": {\"plot\": {\"subtype\": \"Chart\", \"type\": \"Plot\", \"id\": \"8067c51d-8eca-45ef-b2a3-88965b842622\"}}, \"type\": \"ResizeTool\", \"id\": \"fb1a9a29-0062-480c-9cb1-a3e6b45231fb\"}, {\"attributes\": {\"nonselection_glyph\": null, \"data_source\": {\"type\": \"ColumnDataSource\", \"id\": \"5eb6170a-07ce-4158-b115-74bf8d405f25\"}, \"selection_glyph\": null, \"hover_glyph\": null, \"glyph\": {\"type\": \"Rect\", \"id\": \"6e588194-8587-4484-a36d-596fd1b7d31b\"}}, \"type\": \"GlyphRenderer\", \"id\": \"1e2c24f1-34a4-4eb4-bf69-8f93fe1ccc4f\"}, {\"attributes\": {\"x_range\": {\"type\": \"FactorRange\", \"id\": \"2f433145-0ba1-4182-9c4b-d2c272154c3a\"}, \"y_mapper_type\": \"auto\", \"title_text_font_size\": {\"value\": \"14pt\"}, \"yscale\": \"auto\", \"y_range\": {\"type\": \"Range1d\", \"id\": \"e4a30bca-a411-42db-9cbd-c8276c6e8582\"}, \"x_mapper_type\": \"auto\", \"renderers\": [{\"type\": \"BoxAnnotation\", \"id\": \"38b31088-fa88-4041-a076-771f0d45937b\"}, {\"type\": \"GlyphRenderer\", \"id\": \"eacce397-57ea-4651-bb59-35e3b68fca2c\"}, {\"type\": \"GlyphRenderer\", \"id\": \"0396209b-ffe7-4b4e-824b-309506719f7e\"}, {\"type\": \"GlyphRenderer\", \"id\": \"cdf7c374-409c-4371-adfd-44ee7381deca\"}, {\"type\": \"GlyphRenderer\", \"id\": \"e460fef4-e677-49d8-bb52-75b93d06cf9c\"}, {\"type\": \"GlyphRenderer\", \"id\": \"d613ed69-bdf3-46b1-b3cd-f3e6aa9613d9\"}, {\"type\": \"GlyphRenderer\", \"id\": \"1e2c24f1-34a4-4eb4-bf69-8f93fe1ccc4f\"}, {\"type\": \"CategoricalAxis\", \"id\": \"226490f3-2a09-4578-af2c-2aaa64764997\"}, {\"type\": \"LinearAxis\", \"id\": \"3f52b06b-a3d4-40d7-9eb7-5ad95b12b6a1\"}, {\"type\": \"Grid\", \"id\": \"913505be-cd07-45b5-abe7-04bedc083a40\"}], \"xgrid\": false, \"below\": [{\"type\": \"CategoricalAxis\", \"id\": \"226490f3-2a09-4578-af2c-2aaa64764997\"}], \"tool_events\": {\"type\": \"ToolEvents\", \"id\": \"e6489391-1941-45c0-b74d-dc6cb09eb42c\"}, \"xscale\": \"auto\", \"tools\": [{\"type\": \"PanTool\", \"id\": \"4efbaacd-0017-4efe-8b83-b7eb9bc1ed89\"}, {\"type\": \"WheelZoomTool\", \"id\": \"6e7d390d-46f4-4317-995b-6477e8266325\"}, {\"type\": \"BoxZoomTool\", \"id\": \"33447758-f6c2-48d1-92d1-90b5685ee02f\"}, {\"type\": \"PreviewSaveTool\", \"id\": \"a3964ebd-d1f8-4521-a14a-4426b0420759\"}, {\"type\": \"ResizeTool\", \"id\": \"fb1a9a29-0062-480c-9cb1-a3e6b45231fb\"}, {\"type\": \"ResetTool\", \"id\": \"09c659d1-7a97-42c3-9081-68b8a4ce694c\"}, {\"type\": \"HelpTool\", \"id\": \"8925c86a-16ff-42ca-ba75-f5691eb42bb8\"}], \"legend\": null, \"left\": [{\"type\": \"LinearAxis\", \"id\": \"3f52b06b-a3d4-40d7-9eb7-5ad95b12b6a1\"}]}, \"type\": \"Plot\", \"id\": \"8067c51d-8eca-45ef-b2a3-88965b842622\", \"subtype\": \"Chart\"}, {\"attributes\": {\"nonselection_glyph\": null, \"data_source\": {\"type\": \"ColumnDataSource\", \"id\": \"9b238550-7961-48ec-b986-fdbdde78b1e0\"}, \"selection_glyph\": null, \"hover_glyph\": null, \"glyph\": {\"type\": \"Rect\", \"id\": \"cd7bb713-b511-424a-bf18-1ed551f6ab1d\"}}, \"type\": \"GlyphRenderer\", \"id\": \"cdf7c374-409c-4371-adfd-44ee7381deca\"}, {\"attributes\": {\"nonselection_glyph\": null, \"data_source\": {\"type\": \"ColumnDataSource\", \"id\": \"4e086977-e17d-44c9-880e-d73e2ecd10a3\"}, \"selection_glyph\": null, \"hover_glyph\": null, \"glyph\": {\"type\": \"Rect\", \"id\": \"bc9cc4fe-333d-41f6-857b-ff18c02f0ece\"}}, \"type\": \"GlyphRenderer\", \"id\": \"d613ed69-bdf3-46b1-b3cd-f3e6aa9613d9\"}, {\"attributes\": {\"line_color\": {\"field\": \"line_color\"}, \"fill_color\": {\"field\": \"color\"}, \"fill_alpha\": {\"field\": \"fill_alpha\"}, \"height\": {\"units\": \"data\", \"field\": \"height\"}, \"width\": {\"units\": \"data\", \"field\": \"width\"}, \"y\": {\"field\": \"y\"}, \"x\": {\"field\": \"x\"}}, \"type\": \"Rect\", \"id\": \"ef2510d9-c4a0-4493-92d8-4b2449d083f9\"}, {\"attributes\": {\"callback\": null, \"column_names\": [\"line_color\", \"line_alpha\", \"color\", \"fill_alpha\", \"height\", \"width\", \"y\", \"x\"], \"data\": {\"T-size\": [128], \"line_alpha\": [1.0], \"chart_index\": [{\"T-size\": 128}], \"line_color\": [\"white\"], \"color\": [\"#f22c40\"], \"fill_alpha\": [0.8], \"height\": [323159.0], \"width\": [0.8], \"y\": [161579.5], \"x\": [\"128\"]}}, \"type\": \"ColumnDataSource\", \"id\": \"f45f4e36-fb30-4b86-99dc-6da8a501475b\"}, {\"attributes\": {\"callback\": null, \"column_names\": [\"line_color\", \"line_alpha\", \"color\", \"fill_alpha\", \"height\", \"width\", \"y\", \"x\"], \"data\": {\"T-size\": [512], \"line_alpha\": [1.0], \"chart_index\": [{\"T-size\": 512}], \"line_color\": [\"white\"], \"color\": [\"#f22c40\"], \"fill_alpha\": [0.8], \"height\": [284481.0], \"width\": [0.8], \"y\": [142240.5], \"x\": [\"512\"]}}, \"type\": \"ColumnDataSource\", \"id\": \"5eb6170a-07ce-4158-b115-74bf8d405f25\"}, {\"attributes\": {\"plot\": {\"subtype\": \"Chart\", \"type\": \"Plot\", \"id\": \"8067c51d-8eca-45ef-b2a3-88965b842622\"}, \"axis_label\": \"Sum( # Segments )\", \"formatter\": {\"type\": \"BasicTickFormatter\", \"id\": \"680809a4-5fae-468c-a32a-dddb9b320937\"}, \"ticker\": {\"type\": \"BasicTicker\", \"id\": \"dc151f30-d22a-4707-933e-c7d1bd4337ba\"}}, \"type\": \"LinearAxis\", \"id\": \"3f52b06b-a3d4-40d7-9eb7-5ad95b12b6a1\"}, {\"attributes\": {\"line_color\": {\"value\": \"black\"}, \"line_alpha\": {\"value\": 1.0}, \"render_mode\": \"css\", \"bottom_units\": \"screen\", \"level\": \"overlay\", \"top_units\": \"screen\", \"fill_alpha\": {\"value\": 0.5}, \"plot\": null, \"left_units\": \"screen\", \"line_dash\": [4, 4], \"line_width\": {\"value\": 2}, \"right_units\": \"screen\", \"fill_color\": {\"value\": \"lightgrey\"}}, \"type\": \"BoxAnnotation\", \"id\": \"38b31088-fa88-4041-a076-771f0d45937b\"}, {\"attributes\": {\"plot\": {\"subtype\": \"Chart\", \"type\": \"Plot\", \"id\": \"8067c51d-8eca-45ef-b2a3-88965b842622\"}}, \"type\": \"ResetTool\", \"id\": \"09c659d1-7a97-42c3-9081-68b8a4ce694c\"}, {\"attributes\": {\"line_color\": {\"field\": \"line_color\"}, \"fill_color\": {\"field\": \"color\"}, \"fill_alpha\": {\"field\": \"fill_alpha\"}, \"height\": {\"units\": \"data\", \"field\": \"height\"}, \"width\": {\"units\": \"data\", \"field\": \"width\"}, \"y\": {\"field\": \"y\"}, \"x\": {\"field\": \"x\"}}, \"type\": \"Rect\", \"id\": \"6e588194-8587-4484-a36d-596fd1b7d31b\"}, {\"attributes\": {\"callback\": null, \"column_names\": [\"line_color\", \"line_alpha\", \"color\", \"fill_alpha\", \"height\", \"width\", \"y\", \"x\"], \"data\": {\"T-size\": [384], \"line_alpha\": [1.0], \"chart_index\": [{\"T-size\": 384}], \"line_color\": [\"white\"], \"color\": [\"#f22c40\"], \"fill_alpha\": [0.8], \"height\": [289321.0], \"width\": [0.8], \"y\": [144660.5], \"x\": [\"384\"]}}, \"type\": \"ColumnDataSource\", \"id\": \"4e086977-e17d-44c9-880e-d73e2ecd10a3\"}, {\"attributes\": {\"line_color\": {\"field\": \"line_color\"}, \"fill_color\": {\"field\": \"color\"}, \"fill_alpha\": {\"field\": \"fill_alpha\"}, \"height\": {\"units\": \"data\", \"field\": \"height\"}, \"width\": {\"units\": \"data\", \"field\": \"width\"}, \"y\": {\"field\": \"y\"}, \"x\": {\"field\": \"x\"}}, \"type\": \"Rect\", \"id\": \"bc9cc4fe-333d-41f6-857b-ff18c02f0ece\"}, {\"attributes\": {}, \"type\": \"ToolEvents\", \"id\": \"e6489391-1941-45c0-b74d-dc6cb09eb42c\"}, {\"attributes\": {\"line_color\": {\"field\": \"line_color\"}, \"fill_color\": {\"field\": \"color\"}, \"fill_alpha\": {\"field\": \"fill_alpha\"}, \"height\": {\"units\": \"data\", \"field\": \"height\"}, \"width\": {\"units\": \"data\", \"field\": \"width\"}, \"y\": {\"field\": \"y\"}, \"x\": {\"field\": \"x\"}}, \"type\": \"Rect\", \"id\": \"cd7bb713-b511-424a-bf18-1ed551f6ab1d\"}, {\"attributes\": {\"plot\": {\"subtype\": \"Chart\", \"type\": \"Plot\", \"id\": \"8067c51d-8eca-45ef-b2a3-88965b842622\"}}, \"type\": \"WheelZoomTool\", \"id\": \"6e7d390d-46f4-4317-995b-6477e8266325\"}]}, \"title\": \"Bokeh Application\"}};\n",
       "            var render_items = [{\"notebook_comms_target\": \"643f8c28-b4c0-4a04-bed1-2e1c93caaaa2\", \"docid\": \"830538be-f249-44ac-bc87-49fd2b570507\", \"elementid\": \"a79a72a5-be01-43c5-b6c0-b03f1d690038\", \"modelid\": \"8067c51d-8eca-45ef-b2a3-88965b842622\"}];\n",
       "            \n",
       "            Bokeh.embed.embed_items(docs_json, render_items);\n",
       "        });\n",
       "      },\n",
       "      function(Bokeh) {\n",
       "      }\n",
       "    ];\n",
       "  \n",
       "    function run_inline_js() {\n",
       "      for (var i = 0; i < inline_js.length; i++) {\n",
       "        inline_js[i](window.Bokeh);\n",
       "      }\n",
       "    }\n",
       "  \n",
       "    if (window._bokeh_is_loading === 0) {\n",
       "      console.log(\"Bokeh: BokehJS loaded, going straight to plotting\");\n",
       "      run_inline_js();\n",
       "    } else {\n",
       "      load_libs(js_urls, function() {\n",
       "        console.log(\"Bokeh: BokehJS plotting callback run at\", now());\n",
       "        run_inline_js();\n",
       "      });\n",
       "    }\n",
       "  }(this));\n",
       "</script>"
      ]
     },
     "metadata": {},
     "output_type": "display_data"
    }
   ],
   "source": [
    "p = Bar({'# segments': n_samples, 'T-size': T_cal},\n",
    "        values='# segments', label='T-size')\n",
    "f = show(p)"
   ]
  },
  {
   "cell_type": "markdown",
   "metadata": {},
   "source": [
    "# Draft of code for segment generation\n",
    "\n",
    "This is an example of how to use activity annotations to produce data for training."
   ]
  },
  {
   "cell_type": "code",
   "execution_count": 1,
   "metadata": {
    "collapsed": false
   },
   "outputs": [],
   "source": [
    "import hickle as hkl\n",
    "import natsort\n",
    "import numpy as np\n",
    "import pandas as pd\n",
    "\n",
    "\n",
    "from data_generation import compute_priors\n",
    "from data_generation import dump_files\n",
    "from thumos14_helper import Thumos14\n",
    "from utils import c3d_batch_feature_stacking\n",
    "from utils import idx_of_queries\n",
    "\n",
    "\n",
    "T, n_priors = 256, 16\n",
    "th = Thumos14('../data/thumos14/')\n",
    "df_seg = th.segments_info()\n",
    "\n",
    "# Generate segments for training and priors for regression\n",
    "priors, df = compute_priors(df_seg, T, n_priors, iou_thr=0.5, rng_seed=313)\n",
    "\n",
    "# Use 70% videos for training\n",
    "train_ratio = 0.7\n",
    "\n",
    "\n",
    "# Number of videos used\n",
    "m = 70\n",
    "video_names = df['video-name'].unique()\n",
    "video_names = np.array(natsort.natsorted(video_names.tolist())[:m])\n",
    "\n",
    "n_videos = len(video_names)\n",
    "n_train_videos = int(np.ceil(train_ratio * n_videos))\n",
    "\n",
    "rng = np.random.RandomState(313)\n",
    "idx = rng.permutation(n_videos)\n",
    "idx_vid_train = idx[:n_train_videos]\n",
    "idx_vid_test = idx[n_train_videos::]\n",
    "\n",
    "idx_train = df['video-name'].isin(video_names[idx_vid_train]).nonzero()[0]\n",
    "idx_test = df['video-name'].isin(video_names[idx_vid_test]).nonzero()[0]"
   ]
  },
  {
   "cell_type": "code",
   "execution_count": null,
   "metadata": {
    "collapsed": false
   },
   "outputs": [],
   "source": [
    "# Don't execute this cell unless that you want to save results\n",
    "filename = '../a01_val'\n",
    "dump_files(filename, df=df.loc[idx_test, :], conf=True)\n",
    "\n",
    "filename = '../a01_train'\n",
    "dump_files(filename, priors=priors, df=df.loc[idx_train, :], conf=True)\n",
    "\n",
    "Xval = c3d_batch_feature_stacking(df.loc[idx_test, :],\n",
    "                                  '../data/thumos14/c3d/val/',\n",
    "                                  stack_prm={'pool_type': 'mean'})\n",
    "\n",
    "\n",
    "Xtrain = c3d_batch_feature_stacking(df.loc[idx_train, :],\n",
    "                                    '../data/thumos14/c3d/val/',\n",
    "                                    stack_prm={'pool_type': 'mean'})\n",
    "\n",
    "Xval = Xval[0].reshape((Xval[0].shape[0], Xval[0].shape[2]))\n",
    "Xtrain = Xtrain[0].reshape((Xtrain[0].shape[0], Xtrain[0].shape[2]))\n",
    "\n",
    "prefix = '../data/experiments/thumos14/a01/'\n",
    "hkl.dump(xtrain, prefix + 'train_fc7_mean.hkl', mode='w',\n",
    "         compression='gzip', compression_opts=9)\n",
    "hkl.dump(xval, prefix + 'val_fc7_mean.hkl', mode='w',\n",
    "         compression='gzip', compression_opts=9)"
   ]
  },
  {
   "cell_type": "code",
   "execution_count": 3,
   "metadata": {
    "collapsed": false
   },
   "outputs": [
    {
     "name": "stdout",
     "output_type": "stream",
     "text": [
      "0.0793958993762\n",
      "0.0670446508937\n"
     ]
    }
   ],
   "source": [
    "print np.array(df.loc[idx_train, df.columns[4::]]).sum()*1.0 / len(idx_train) / len(df.columns[4::])\n",
    "print np.array(df.loc[idx_test, df.columns[4::]]).sum()*1.0 / len(idx_test) / len(df.columns[4::])"
   ]
  }
 ],
 "metadata": {
  "kernelspec": {
   "display_name": "Python 2",
   "language": "python",
   "name": "python2"
  },
  "language_info": {
   "codemirror_mode": {
    "name": "ipython",
    "version": 2
   },
   "file_extension": ".py",
   "mimetype": "text/x-python",
   "name": "python",
   "nbconvert_exporter": "python",
   "pygments_lexer": "ipython2",
   "version": "2.7.11"
  }
 },
 "nbformat": 4,
 "nbformat_minor": 0
}
